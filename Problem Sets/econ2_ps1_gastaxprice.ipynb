{
 "cells": [
  {
   "attachments": {},
   "cell_type": "markdown",
   "id": "f711e764-ac7f-4a32-b0e7-5dc4c9b195eb",
   "metadata": {},
   "source": [
    "<h1>ECON 2 Problem Set 1</h1>"
   ]
  },
  {
   "cell_type": "markdown",
   "id": "208d6574-529f-45cb-8604-fc2839962012",
   "metadata": {},
   "source": [
    "<h2>Gas taxes and gas prices in the EU</h2>"
   ]
  },
  {
   "cell_type": "markdown",
   "id": "517999e3-778a-4dc1-a874-63c31a20444e",
   "metadata": {},
   "source": [
    "(Many thanks to Prof. Emmanuel Saez at UC Berkeley for developing this problem.)"
   ]
  },
  {
   "cell_type": "markdown",
   "id": "0205be47-0643-48b9-becd-26203a809067",
   "metadata": {
    "slideshow": {
     "slide_type": "fragment"
    }
   },
   "source": [
    "Most governments levy and collect taxes on gasoline, which remains the primary fuel for automobiles. But different governments levy different levels of a gas tax. How does the empirical relationship between gas taxes and gas prices across different geographies with different governments compare with the theoretical relationship that we expect to see?"
   ]
  },
  {
   "cell_type": "markdown",
   "id": "0121159d-09d4-4fbc-86ec-783479dbe1d0",
   "metadata": {},
   "source": [
    "Usually we conceptualize a <em>sales tax</em> like a gas tax as a proportional tax, like the 10.25% tax in Berkeley, CA. But it is also useful to look at the currency value of the tax per unit, compared with the currency value of the market price per unit."
   ]
  },
  {
   "cell_type": "markdown",
   "id": "c7cf9032-916b-4c6c-b392-a4a22a195e81",
   "metadata": {},
   "source": [
    "<h2>Data sources</h2>\n",
    "\n",
    "I retrieved [data on gas prices in the EU](https://www.mappr.co/thematic-maps/fuel-prices-europe/) and [data on gas taxes](https://taxfoundation.org/data/all/eu/diesel-gas-taxes-europe/) on September 5, 2025."
   ]
  },
  {
   "cell_type": "markdown",
   "id": "b4eef4c2-4e11-4321-8c9e-3482e3635ea5",
   "metadata": {},
   "source": [
    "<h2>Google Sheets</h2>\n",
    "\n",
    "These are fantastic. In ECON 2, you can use Google Sheets only and skip the __R__ code below if you like. Or you can press ahead and see something that might be new and unfamiliar, but which is much more powerful. You will use something like this in ECON 140 and possibly in STAT 20 or DATA 8."
   ]
  },
  {
   "cell_type": "markdown",
   "id": "036beb73-709a-4223-988a-61af8e1615e5",
   "metadata": {},
   "source": [
    "Run the code below to load up some useful libraries in __R__:"
   ]
  },
  {
   "cell_type": "code",
   "execution_count": null,
   "id": "fc7f3ce6-2fdd-49a9-b9ac-4b2bf1f4dac5",
   "metadata": {},
   "outputs": [],
   "source": [
    "# This call pulls in a package that lets us read Google files like Sheets\n",
    "install.packages(\"googlesheets4\")\n",
    "library(googlesheets4)\n",
    "\n",
    "# This call allows the notebook to skip Google authorization, to access publicly \n",
    "# viewable files \n",
    "gs4_deauth()\n",
    "\n",
    "# Let's also install and load up a handy graphing library\n",
    "install.packages(\"ggplot2\")\n",
    "library(ggplot2)"
   ]
  },
  {
   "cell_type": "markdown",
   "id": "44f7f010-8451-48e8-b4ed-c028a316d0bf",
   "metadata": {},
   "source": [
    "The dataset sits in this Google Sheets file: [EU gas taxes and prices](https://docs.google.com/spreadsheets/d/1GRRoQAsHtWYZ3vhyPfx5SYsZd-o3JnaHkJGiPn_QPYU/edit?gid=0#gid=0), which you can access directly. To edit, make a copy of the file into your own @Berkeley Google account, which you can access by navigating to [https://drive.google.com](https://drive.google.com) after authenticating with your @Berkeley account."
   ]
  },
  {
   "cell_type": "code",
   "execution_count": null,
   "id": "57ede464-eaac-4a33-a903-0a85993b50b6",
   "metadata": {},
   "outputs": [],
   "source": [
    "# Define a string as the URL for the public sheet\n",
    "sheet_url = \"https://docs.google.com/spreadsheets/d/1GRRoQAsHtWYZ3vhyPfx5SYsZd-o3JnaHkJGiPn_QPYU/edit?gid=0#gid=0\"\n",
    "\n",
    "# This call to read_sheet creates a data frame called \"eu_gas_tp\" containing \n",
    "# data from the range shown\n",
    "eu_gas_tp <- read_sheet(sheet_url,\n",
    "                        range = \"A1:F28\")"
   ]
  },
  {
   "cell_type": "markdown",
   "id": "7538899d-6b39-4a71-8ceb-6e0db9fb4a0a",
   "metadata": {},
   "source": [
    "This code shows the data frame, which contains 27 observations on country-level gas taxes and gas prices. For both taxes and prices we have measures in euros per liter and also in dollars per gallon, which might be more familiar to U.S. students."
   ]
  },
  {
   "cell_type": "code",
   "execution_count": null,
   "id": "b757dbdf-7b04-4943-ab2a-fb9100e3926b",
   "metadata": {},
   "outputs": [],
   "source": [
    "eu_gas_tp"
   ]
  },
  {
   "cell_type": "markdown",
   "id": "98408c82-cfcf-47d4-8786-5b00e8a24a33",
   "metadata": {},
   "source": [
    "<h2>Pretty graphs vs. pretty code</h2>\n",
    "\n",
    "One of the challenges is that creating pretty graphics can be complicated, code-wise. Let's start with an ugly graphic that is simple. Here is all the code we really need:"
   ]
  },
  {
   "cell_type": "code",
   "execution_count": null,
   "id": "c9f4765c-9156-406a-9abb-a85d7756390c",
   "metadata": {},
   "outputs": [],
   "source": [
    "plot(eu_gas_tp$gastax_el, eu_gas_tp$gasprice_el)"
   ]
  },
  {
   "cell_type": "markdown",
   "id": "ed06cac5-7a88-4f63-b704-47dbbab5839a",
   "metadata": {},
   "source": [
    "In the code above, we're asking __R__ to make a scatterplot with the `gastax_el` column as the X-variable and the `gasprice_el` column as the Y-variable. \n",
    "\n",
    "Simple. A little ugly.\n",
    "\n",
    "Here's some more complicated code that graphs things a little more elegantly using the `ggplot2` package:"
   ]
  },
  {
   "cell_type": "code",
   "execution_count": null,
   "id": "e8bee09b-80f4-4472-96da-642c1d39b818",
   "metadata": {},
   "outputs": [],
   "source": [
    "# Copied and pasted and altered from Gemini, thanks:\n",
    "#\n",
    "# We can use ggplot() to create a pretty scatterplot\n",
    "# 1. The first argument is the dataframe.\n",
    "# 2. Inside the aes() (aesthetics) function, we map our variables:\n",
    "#    - x = gastax_el:    maps the 'gastax_el' column to the x-axis.\n",
    "#    - y = gasprice_el:  maps the 'gasprice_el' column to the y-axis.\n",
    "# 3. We then add (+) the geom_point() layer to tell ggplot we want a scatterplot.\n",
    "\n",
    "scatterplot <- ggplot(eu_gas_tp, aes(x = gastax_el, y = gasprice_el)) +\n",
    "  geom_point() +\n",
    "  labs(\n",
    "    title = \"The gas price as a function of the gas tax in the EU, 2025\",\n",
    "    x = \"Gas tax in euros per liter\",\n",
    "    y = \"Gas price in euros per liter\"\n",
    "  ) +\n",
    "  theme_minimal() # Applying a clean theme for better readability\n",
    "\n",
    "print(scatterplot)"
   ]
  },
  {
   "cell_type": "markdown",
   "id": "656b995b-d327-416b-b99c-a9676df28ba3",
   "metadata": {},
   "source": [
    "Voilà. Go ahead and play around with this if you like. Maybe ask Gemini or ChatGPT how to make it prettier if you like. You could also ask it about the `geom_smooth()` option, which cuts to the chase with a trendline.\n",
    "\n",
    "You could run the code below and take a time machine into ECON 140 to interpret it. This code runs the <em>linear regression</em> of the Y variable shown in the graph on the X variable, and it tells us the estimate of the Y-intercept and the linear slope coefficient on the X variable, `gastax_el`.\n",
    "\n",
    "(No, this will not be on the ECON 2 exams. It will be on the ECON 140 exams.)"
   ]
  },
  {
   "cell_type": "code",
   "execution_count": null,
   "id": "0a29954b-273e-408e-bf4d-a3fb35cae617",
   "metadata": {},
   "outputs": [],
   "source": [
    "reg1 <- lm(gasprice_el ~ gastax_el,\n",
    "           data = eu_gas_tp)\n",
    "summary(reg1)"
   ]
  },
  {
   "cell_type": "markdown",
   "id": "775ca073-98f2-4607-aeca-b2bb4a42c1fb",
   "metadata": {},
   "source": [
    "<div style=\"text-align: right\"> <span style=\"font-family:Papyrus; \">And they lived happily ever after. The End.</span></div>"
   ]
  }
 ],
 "metadata": {
  "kernelspec": {
   "display_name": "R",
   "language": "R",
   "name": "ir"
  },
  "language_info": {
   "codemirror_mode": "r",
   "file_extension": ".r",
   "mimetype": "text/x-r-source",
   "name": "R",
   "pygments_lexer": "r",
   "version": "4.4.2"
  }
 },
 "nbformat": 4,
 "nbformat_minor": 5
}
