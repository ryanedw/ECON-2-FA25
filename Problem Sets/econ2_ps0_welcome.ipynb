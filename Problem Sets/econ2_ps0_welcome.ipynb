{
 "cells": [
  {
   "cell_type": "markdown",
   "id": "5d8f3ad0-80a5-406d-8a55-c9649d7a28e0",
   "metadata": {},
   "source": [
    "<h1>ECON 2 Problem Set 0</h1>"
   ]
  },
  {
   "cell_type": "markdown",
   "id": "4c4cfe46-7f35-4fcf-88ba-49f79a894527",
   "metadata": {},
   "source": [
    "<h2>The Jupyter notebook environment and R</h2>"
   ]
  },
  {
   "cell_type": "markdown",
   "id": "e404f27b-8746-4e09-8444-7fddf7722cf5",
   "metadata": {},
   "source": [
    "Welcome to ECON 2: Introduction to Economics, and welcome to a <b>[Jupyter notebook](https://en.wikipedia.org/wiki/Project_Jupyter)</b> running code written in __R__.\n",
    "\n",
    "You will probably see Jupyter notebooks in many places at Berkeley to show code and illustrate concepts. Below are some helpful tips; scroll or click to jump:\n",
    "1. <a href=#section1>To run the code in a cell, click on it and hit SHIFT-ENTER</a>\n",
    "2. <a href=#section2>Start at the top of the notebook</a>\n",
    "3. <a href=#section3>Copy and adapt code</a>\n",
    "4. <a href=#section4>If you're stuck, try asking a chatbot or a human</a>\n",
    "5. <a href=#section5>Experiment with output formats</a>\n",
    "6. <a href=#section6>Remember you're on a server</a>"
   ]
  },
  {
   "cell_type": "markdown",
   "id": "b010e31b-2932-4244-a13f-9870c415453f",
   "metadata": {},
   "source": [
    "## 1. To run the code in a cell, click on it and hit SHIFT-ENTER <a name='section1'/>\n",
    "\n",
    "Notebooks can contain code alongside nicely typeset prose and math, like the familiar $y = m \\ x + b$ representation of a straight line in $(x,y)$-space with slope $m$ and $y$-intercept $b$. \n",
    "\n",
    "Below is an example of some very simple code written in __R__. Select the cell and hit SHIFT-ENTER (or CTRL-ENTER, or just about any special key and ENTER simultaneously)."
   ]
  },
  {
   "cell_type": "code",
   "execution_count": null,
   "id": "c881dd2a-c149-45ab-8cb2-268fc983548c",
   "metadata": {},
   "outputs": [],
   "source": [
    "m = -0.1\n",
    "b = 4\n",
    "x = 10\n",
    "y = m*x + b\n",
    "\n",
    "print(y)"
   ]
  },
  {
   "cell_type": "markdown",
   "id": "03ad4a94-816c-4dfb-a114-f5b89579411d",
   "metadata": {},
   "source": [
    "The output of the code often looks messy. Feel free to make it prettier, or just shrug and recognize beauty in the mess?"
   ]
  },
  {
   "cell_type": "markdown",
   "id": "cb6ae699-e9f6-4b52-8728-75b11d9d53f0",
   "metadata": {},
   "source": [
    "## 2. Start at the top of the notebook <a name='section2'/>\n",
    "\n",
    "Statistical work in __R__ and in other languages often requires loading <b>packages</b> as well as datasets. When programming, it's helpful to load those in at the top of the Jupyter notebook, and then users can run cells from top to bottom, either manually or via the <b>Run</b> menu within the notebook.\n",
    "\n",
    "If __R__ spits back an error, one of the first things you should try is running cells over again from the top, to install needed packages and load in datasets. Note that doing so will clear and overwrite any results, but typically that's fine."
   ]
  },
  {
   "cell_type": "markdown",
   "id": "2c88006c-74a8-4365-b3bb-605ca71e087f",
   "metadata": {},
   "source": [
    "## 3. Copy and adapt code <a name='section3'/>\n",
    "\n",
    "Good programmers copy and adapt things, and then they acknowledge help and sometimes directly cite it. You can copy an entire Jupyter notebook, and you can edit individual cells within notebooks. Just double-click on a cell, or highlight it and hit ENTER."
   ]
  },
  {
   "cell_type": "markdown",
   "id": "65bf351c-690e-493b-96fa-ec542b6327a9",
   "metadata": {},
   "source": [
    "## 4. If you're stuck, try asking a chatbot or a human <a name='section4'/>\n",
    "\n",
    "[ChatGPT](https://en.wikipedia.org/wiki/ChatGPT) debuted in late Fall 2022, and university instruction has not been the same since. But I think it has become much better. I encourage students in all my classes to use generative AI in order to understand tools and complete assignments &mdash; and simply to acknowledge their use of it when appropriate.\n",
    "\n",
    "I routinely use ChatGPT to help me with Markdown and coding in __R__. I occasionally use it \"as a student,\" to guess what your experience might be like. I tend not to trust what it says without verifying!"
   ]
  },
  {
   "cell_type": "markdown",
   "id": "828a4aac-53bc-49fd-a1bb-6efc9243c1b5",
   "metadata": {},
   "source": [
    "## 5. Experiment with output formats <a name='section5'/>\n",
    "\n",
    "You can count on a Jupyter notebook looking beautiful in a browser. You can also count on encountering difficulty when trying to export the beauty that you see into a PDF or other type of document! C'est la vie.\n",
    "\n",
    "Typically, printing a Jupyter notebook into a PDF will work somehow. You might need to try and export it instead, sometimes \"via [LaTeX](https://en.wikipedia.org/wiki/LaTeX),\" which means with a typesetting program. Sometimes you might need to open the file in a \"Notebook\" or \"NbClassic,\" whatever in the world those might mean.\n",
    "\n",
    "You could also try copying and pasting material into your favorite word processor, like Word or Google Docs. However you get it done typically will suffice.\n",
    "\n",
    "Here is a handy passage in the UC Berkeley Data Science Curriculum Guide about [downloading a notebook as a PDF](https://ds-modules.github.io/curriculum-guide/workflow/download_notebook_as_pdf.html?highlight=pdf). As of this writing, in May 2024, the guide suggests using: \n",
    "\n",
    "> File: Save and Export Notebook As...: Webpdf"
   ]
  },
  {
   "cell_type": "markdown",
   "id": "e4b152ae-a109-4252-81d8-5da536a9a89d",
   "metadata": {},
   "source": [
    "## 6. Remember you're on a server <a name='section6'/>\n",
    "\n",
    "Clicking an interact link in ECON 2 will bring you over to the [datahub.berkeley.edu](https://datahub.berkeley.edu) server, and by default it will place you within the ECON 2 course folder. You can choose to work in a different folder, or on a different platform altogether, but datahub is really easy to use.\n",
    "\n",
    "Still, as economists love to point out, there are costs as well as benefits associated with any choice. A common challenge that students encounter is that they might want to work with a different dataset, which is not stored locally on datahub or easily accessible via __R__ packages. It might take some trial and error, but typically you will either be able to solve the problem on datahub, or you might decide instead to install a local copy of [RStudio](https://posit.co/download/rstudio-desktop/) on your computer.\n",
    "\n",
    "All of the __R__ code that you see here is readily transferrable into a local RStudio instance."
   ]
  },
  {
   "cell_type": "markdown",
   "id": "9c1fc503-4bc7-4559-bc17-4df9adcd8013",
   "metadata": {},
   "source": [
    "<div style=\"text-align: right\"> <span style=\"font-family:Papyrus; \">And they lived happily ever after. The End.</span></div>"
   ]
  },
  {
   "cell_type": "markdown",
   "id": "f607970b-66c2-4914-91e8-0ef0e356ae43",
   "metadata": {},
   "source": []
  }
 ],
 "metadata": {
  "kernelspec": {
   "display_name": "Python 3 (ipykernel)",
   "language": "python",
   "name": "python3"
  },
  "language_info": {
   "codemirror_mode": {
    "name": "ipython",
    "version": 3
   },
   "file_extension": ".py",
   "mimetype": "text/x-python",
   "name": "python",
   "nbconvert_exporter": "python",
   "pygments_lexer": "ipython3",
   "version": "3.11.13"
  }
 },
 "nbformat": 4,
 "nbformat_minor": 5
}
